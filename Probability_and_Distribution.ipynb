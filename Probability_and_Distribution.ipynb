{
  "nbformat": 4,
  "nbformat_minor": 0,
  "metadata": {
    "colab": {
      "provenance": []
    },
    "kernelspec": {
      "name": "python3",
      "display_name": "Python 3"
    },
    "language_info": {
      "name": "python"
    }
  },
  "cells": [
    {
      "cell_type": "code",
      "execution_count": null,
      "metadata": {
        "id": "L1KghtNv-2hH"
      },
      "outputs": [],
      "source": [
        "import numpy as np\n",
        "import pandas as np\n",
        "import seaborn as sns\n",
        "import matplotlib as plt"
      ]
    },
    {
      "cell_type": "markdown",
      "source": [
        "**Discrete distribution**\n",
        "\n",
        "bernoulli\n",
        "\n",
        "binomial\n",
        "\n",
        "poisson"
      ],
      "metadata": {
        "id": "HIZ7HdkiDXJx"
      }
    },
    {
      "cell_type": "markdown",
      "source": [
        "**Bernoulli distribution**\n",
        "define the probability of 2 events (yes or no)"
      ],
      "metadata": {
        "id": "-Ile64JwBz-d"
      }
    },
    {
      "cell_type": "code",
      "source": [
        "from scipy.stats import bernoulli\n",
        "\n",
        "koin = bernoulli.rvs(size = 1000, p = 0.5)\n",
        "\n",
        "sns.histplot(koin)\n",
        "plt.show()"
      ],
      "metadata": {
        "colab": {
          "base_uri": "https://localhost:8080/",
          "height": 742
        },
        "id": "_1R1yJ3h_B8i",
        "outputId": "f179a0a0-532a-4eba-bfc1-c9fa4cedbbb2"
      },
      "execution_count": null,
      "outputs": [
        {
          "output_type": "error",
          "ename": "AttributeError",
          "evalue": "module 'matplotlib' has no attribute 'show'",
          "traceback": [
            "\u001b[0;31m---------------------------------------------------------------------------\u001b[0m",
            "\u001b[0;31mAttributeError\u001b[0m                            Traceback (most recent call last)",
            "\u001b[0;32m<ipython-input-4-af803e59e89b>\u001b[0m in \u001b[0;36m<cell line: 6>\u001b[0;34m()\u001b[0m\n\u001b[1;32m      4\u001b[0m \u001b[0;34m\u001b[0m\u001b[0m\n\u001b[1;32m      5\u001b[0m \u001b[0msns\u001b[0m\u001b[0;34m.\u001b[0m\u001b[0mhistplot\u001b[0m\u001b[0;34m(\u001b[0m\u001b[0mkoin\u001b[0m\u001b[0;34m)\u001b[0m\u001b[0;34m\u001b[0m\u001b[0;34m\u001b[0m\u001b[0m\n\u001b[0;32m----> 6\u001b[0;31m \u001b[0mplt\u001b[0m\u001b[0;34m.\u001b[0m\u001b[0mshow\u001b[0m\u001b[0;34m(\u001b[0m\u001b[0;34m)\u001b[0m\u001b[0;34m\u001b[0m\u001b[0;34m\u001b[0m\u001b[0m\n\u001b[0m",
            "\u001b[0;32m/usr/local/lib/python3.10/dist-packages/matplotlib/_api/__init__.py\u001b[0m in \u001b[0;36m__getattr__\u001b[0;34m(name)\u001b[0m\n\u001b[1;32m    216\u001b[0m         \u001b[0;32mif\u001b[0m \u001b[0mname\u001b[0m \u001b[0;32min\u001b[0m \u001b[0mprops\u001b[0m\u001b[0;34m:\u001b[0m\u001b[0;34m\u001b[0m\u001b[0;34m\u001b[0m\u001b[0m\n\u001b[1;32m    217\u001b[0m             \u001b[0;32mreturn\u001b[0m \u001b[0mprops\u001b[0m\u001b[0;34m[\u001b[0m\u001b[0mname\u001b[0m\u001b[0;34m]\u001b[0m\u001b[0;34m.\u001b[0m\u001b[0m__get__\u001b[0m\u001b[0;34m(\u001b[0m\u001b[0minstance\u001b[0m\u001b[0;34m)\u001b[0m\u001b[0;34m\u001b[0m\u001b[0;34m\u001b[0m\u001b[0m\n\u001b[0;32m--> 218\u001b[0;31m         raise AttributeError(\n\u001b[0m\u001b[1;32m    219\u001b[0m             f\"module {cls.__module__!r} has no attribute {name!r}\")\n\u001b[1;32m    220\u001b[0m \u001b[0;34m\u001b[0m\u001b[0m\n",
            "\u001b[0;31mAttributeError\u001b[0m: module 'matplotlib' has no attribute 'show'"
          ]
        },
        {
          "output_type": "display_data",
          "data": {
            "text/plain": [
              "<Figure size 640x480 with 1 Axes>"
            ],
            "image/png": "[encoded data removed]"
          },
          "metadata": {}
        }
      ]
    },
    {
      "cell_type": "code",
      "source": [
        "koin"
      ],
      "metadata": {
        "colab": {
          "base_uri": "https://localhost:8080/"
        },
        "id": "OfNV6TGC_nbG",
        "outputId": "aa9b21f2-cb77-4bba-cc25-4de2b84fbba4"
      },
      "execution_count": null,
      "outputs": [
        {
          "output_type": "execute_result",
          "data": {
            "text/plain": [
              "array([0, 1, 1, 1, 0, 0, 0, 0, 1, 0, 1, 0, 0, 1, 0, 0, 0, 0, 1, 0, 0, 1,\n",
              "       1, 1, 1, 1, 1, 0, 1, 1, 1, 1, 1, 0, 0, 1, 1, 1, 0, 1, 1, 1, 0, 1,\n",
              "       1, 1, 0, 1, 1, 0, 1, 1, 0, 1, 0, 0, 0, 1, 1, 1, 0, 1, 0, 0, 0, 1,\n",
              "       1, 1, 0, 1, 1, 0, 1, 0, 0, 0, 1, 1, 1, 1, 0, 0, 0, 1, 0, 1, 1, 0,\n",
              "       0, 1, 0, 1, 0, 0, 0, 0, 0, 1, 0, 1, 1, 1, 1, 1, 0, 0, 1, 1, 1, 1,\n",
              "       1, 1, 1, 1, 0, 0, 1, 0, 1, 0, 0, 0, 0, 1, 0, 0, 1, 0, 0, 1, 1, 0,\n",
              "       1, 1, 1, 1, 0, 0, 0, 1, 0, 1, 1, 0, 0, 1, 0, 1, 0, 0, 0, 1, 0, 0,\n",
              "       1, 1, 0, 1, 1, 0, 0, 0, 0, 1, 1, 0, 1, 0, 1, 0, 1, 1, 1, 1, 0, 0,\n",
              "       0, 0, 1, 1, 1, 0, 0, 1, 1, 1, 0, 0, 0, 0, 0, 0, 1, 1, 0, 1, 1, 0,\n",
              "       1, 1, 1, 1, 1, 1, 1, 1, 0, 1, 1, 0, 1, 1, 0, 0, 0, 1, 0, 1, 0, 0,\n",
              "       0, 0, 0, 1, 0, 0, 0, 0, 0, 0, 0, 0, 1, 0, 0, 0, 1, 1, 0, 0, 1, 0,\n",
              "       0, 0, 0, 0, 0, 1, 0, 0, 1, 1, 0, 0, 0, 1, 1, 1, 0, 0, 1, 1, 1, 1,\n",
              "       0, 0, 1, 1, 0, 0, 0, 1, 0, 1, 1, 1, 1, 0, 1, 0, 0, 1, 0, 0, 1, 0,\n",
              "       1, 0, 1, 0, 1, 0, 1, 0, 1, 1, 0, 1, 0, 0, 0, 1, 0, 1, 0, 0, 1, 0,\n",
              "       0, 0, 1, 1, 1, 0, 0, 1, 1, 0, 1, 0, 0, 0, 1, 1, 1, 1, 0, 1, 1, 0,\n",
              "       0, 1, 1, 1, 1, 0, 0, 1, 1, 0, 0, 0, 0, 1, 1, 1, 0, 0, 0, 1, 1, 0,\n",
              "       0, 1, 0, 0, 0, 1, 0, 1, 1, 1, 1, 0, 0, 0, 0, 0, 0, 0, 0, 0, 1, 1,\n",
              "       1, 1, 1, 0, 0, 1, 1, 0, 1, 0, 1, 0, 1, 1, 0, 1, 0, 0, 0, 0, 1, 0,\n",
              "       1, 1, 1, 0, 0, 1, 0, 1, 0, 0, 0, 1, 1, 1, 0, 0, 1, 0, 0, 1, 0, 0,\n",
              "       1, 0, 0, 0, 0, 0, 0, 1, 1, 0, 0, 1, 0, 1, 1, 1, 0, 0, 0, 1, 0, 0,\n",
              "       0, 0, 1, 0, 0, 0, 0, 0, 1, 0, 1, 1, 0, 0, 1, 0, 1, 1, 0, 1, 1, 1,\n",
              "       1, 1, 1, 1, 1, 1, 1, 0, 1, 0, 0, 1, 1, 1, 1, 1, 0, 0, 0, 0, 0, 1,\n",
              "       0, 1, 0, 0, 1, 0, 0, 1, 1, 1, 1, 0, 0, 0, 0, 0, 1, 0, 1, 1, 0, 1,\n",
              "       0, 1, 0, 0, 0, 1, 1, 1, 1, 1, 1, 0, 0, 1, 0, 1, 1, 1, 1, 1, 1, 0,\n",
              "       1, 0, 0, 1, 1, 0, 0, 1, 0, 1, 1, 1, 1, 0, 0, 1, 1, 1, 0, 1, 0, 0,\n",
              "       1, 1, 1, 1, 1, 1, 1, 0, 0, 0, 1, 1, 0, 0, 0, 0, 1, 0, 0, 0, 0, 1,\n",
              "       0, 1, 1, 0, 0, 0, 1, 1, 0, 0, 0, 0, 1, 1, 1, 0, 0, 0, 0, 0, 1, 1,\n",
              "       0, 0, 0, 0, 0, 1, 1, 1, 0, 1, 1, 1, 0, 0, 1, 1, 1, 0, 0, 0, 1, 0,\n",
              "       1, 0, 1, 0, 0, 0, 0, 0, 1, 0, 1, 1, 0, 0, 1, 0, 1, 1, 1, 1, 0, 0,\n",
              "       0, 0, 1, 0, 1, 0, 0, 0, 0, 0, 1, 0, 1, 0, 1, 0, 0, 0, 1, 0, 0, 0,\n",
              "       0, 1, 0, 1, 0, 1, 0, 1, 1, 0, 1, 0, 1, 0, 1, 0, 1, 0, 1, 0, 0, 0,\n",
              "       1, 0, 0, 0, 1, 0, 0, 0, 1, 0, 1, 1, 0, 1, 0, 1, 0, 1, 1, 1, 1, 1,\n",
              "       0, 1, 0, 1, 0, 0, 1, 0, 1, 1, 1, 1, 0, 1, 0, 0, 0, 0, 1, 1, 0, 0,\n",
              "       1, 0, 0, 1, 1, 1, 0, 1, 0, 0, 1, 0, 0, 1, 1, 0, 0, 0, 0, 0, 0, 0,\n",
              "       1, 0, 1, 1, 0, 1, 0, 0, 1, 1, 0, 0, 0, 1, 0, 0, 0, 1, 1, 1, 1, 1,\n",
              "       1, 1, 1, 1, 0, 0, 1, 1, 0, 0, 1, 1, 0, 0, 1, 0, 0, 0, 1, 1, 0, 0,\n",
              "       1, 1, 0, 0, 1, 1, 0, 1, 1, 0, 1, 0, 1, 1, 0, 1, 0, 0, 1, 1, 0, 1,\n",
              "       1, 1, 1, 1, 1, 0, 0, 1, 1, 0, 1, 0, 0, 1, 1, 0, 0, 1, 1, 0, 1, 0,\n",
              "       1, 1, 1, 0, 0, 0, 0, 1, 1, 1, 0, 0, 1, 1, 0, 1, 1, 1, 1, 1, 0, 0,\n",
              "       0, 0, 0, 1, 0, 1, 1, 0, 0, 1, 1, 1, 1, 0, 0, 1, 1, 1, 0, 1, 0, 1,\n",
              "       1, 0, 0, 0, 0, 1, 0, 1, 1, 0, 1, 0, 0, 1, 0, 1, 1, 0, 0, 1, 1, 0,\n",
              "       0, 1, 1, 1, 1, 0, 1, 0, 0, 1, 0, 0, 0, 0, 0, 0, 1, 0, 0, 0, 1, 0,\n",
              "       0, 1, 0, 1, 0, 0, 1, 1, 0, 0, 0, 0, 0, 1, 0, 1, 1, 1, 0, 0, 0, 0,\n",
              "       1, 1, 0, 1, 0, 1, 0, 1, 0, 0, 1, 1, 1, 0, 0, 0, 1, 1, 0, 0, 0, 1,\n",
              "       0, 0, 1, 0, 0, 1, 0, 1, 1, 0, 1, 1, 1, 0, 1, 0, 1, 0, 0, 1, 1, 0,\n",
              "       1, 1, 1, 1, 0, 1, 0, 1, 1, 0])"
            ]
          },
          "metadata": {},
          "execution_count": 5
        }
      ]
    },
    {
      "cell_type": "markdown",
      "source": [
        "**Binomial distribution**\n",
        "bernoulli distribution that happens in n events"
      ],
      "metadata": {
        "id": "5W8NN2fhB4rX"
      }
    },
    {
      "cell_type": "code",
      "source": [
        "from scipy.stats import binom\n",
        "\n",
        "koin = binom.rvs(size = 1000, n = 10, p = 0.5)\n",
        "\n",
        "sns.histplot(koin)\n",
        "plt.show()"
      ],
      "metadata": {
        "colab": {
          "base_uri": "https://localhost:8080/",
          "height": 742
        },
        "id": "5_KCCm2pAogk",
        "outputId": "954edb7c-9539-454b-bef0-03f66fdf4dcc"
      },
      "execution_count": null,
      "outputs": [
        {
          "output_type": "error",
          "ename": "AttributeError",
          "evalue": "module 'matplotlib' has no attribute 'show'",
          "traceback": [
            "\u001b[0;31m---------------------------------------------------------------------------\u001b[0m",
            "\u001b[0;31mAttributeError\u001b[0m                            Traceback (most recent call last)",
            "\u001b[0;32m<ipython-input-7-56c952931255>\u001b[0m in \u001b[0;36m<cell line: 6>\u001b[0;34m()\u001b[0m\n\u001b[1;32m      4\u001b[0m \u001b[0;34m\u001b[0m\u001b[0m\n\u001b[1;32m      5\u001b[0m \u001b[0msns\u001b[0m\u001b[0;34m.\u001b[0m\u001b[0mhistplot\u001b[0m\u001b[0;34m(\u001b[0m\u001b[0mkoin\u001b[0m\u001b[0;34m)\u001b[0m\u001b[0;34m\u001b[0m\u001b[0;34m\u001b[0m\u001b[0m\n\u001b[0;32m----> 6\u001b[0;31m \u001b[0mplt\u001b[0m\u001b[0;34m.\u001b[0m\u001b[0mshow\u001b[0m\u001b[0;34m(\u001b[0m\u001b[0;34m)\u001b[0m\u001b[0;34m\u001b[0m\u001b[0;34m\u001b[0m\u001b[0m\n\u001b[0m",
            "\u001b[0;32m/usr/local/lib/python3.10/dist-packages/matplotlib/_api/__init__.py\u001b[0m in \u001b[0;36m__getattr__\u001b[0;34m(name)\u001b[0m\n\u001b[1;32m    216\u001b[0m         \u001b[0;32mif\u001b[0m \u001b[0mname\u001b[0m \u001b[0;32min\u001b[0m \u001b[0mprops\u001b[0m\u001b[0;34m:\u001b[0m\u001b[0;34m\u001b[0m\u001b[0;34m\u001b[0m\u001b[0m\n\u001b[1;32m    217\u001b[0m             \u001b[0;32mreturn\u001b[0m \u001b[0mprops\u001b[0m\u001b[0;34m[\u001b[0m\u001b[0mname\u001b[0m\u001b[0;34m]\u001b[0m\u001b[0;34m.\u001b[0m\u001b[0m__get__\u001b[0m\u001b[0;34m(\u001b[0m\u001b[0minstance\u001b[0m\u001b[0;34m)\u001b[0m\u001b[0;34m\u001b[0m\u001b[0;34m\u001b[0m\u001b[0m\n\u001b[0;32m--> 218\u001b[0;31m         raise AttributeError(\n\u001b[0m\u001b[1;32m    219\u001b[0m             f\"module {cls.__module__!r} has no attribute {name!r}\")\n\u001b[1;32m    220\u001b[0m \u001b[0;34m\u001b[0m\u001b[0m\n",
            "\u001b[0;31mAttributeError\u001b[0m: module 'matplotlib' has no attribute 'show'"
          ]
        },
        {
          "output_type": "display_data",
          "data": {
            "text/plain": [
              "<Figure size 640x480 with 1 Axes>"
            ],
            "image/png": "[encoded data removed]"
          },
          "metadata": {}
        }
      ]
    },
    {
      "cell_type": "code",
      "source": [
        "koin"
      ],
      "metadata": {
        "colab": {
          "base_uri": "https://localhost:8080/"
        },
        "id": "o6iCecZ-A-1G",
        "outputId": "ee713e78-f3f4-4343-bfd9-0f419e7b1ed0"
      },
      "execution_count": null,
      "outputs": [
        {
          "output_type": "execute_result",
          "data": {
            "text/plain": [
              "array([ 3,  7,  3,  5,  4,  6,  5,  6,  5,  3,  4,  7,  4,  7,  7,  6,  4,\n",
              "        4,  6,  4,  1,  5,  7,  4,  3,  2,  6,  5,  6,  4,  4,  8,  9,  7,\n",
              "        6,  4,  6,  6,  7,  6,  7,  4,  5,  8,  4,  6,  4,  5,  3,  5,  4,\n",
              "        6,  6,  5,  3,  7,  6,  9,  5,  6,  2,  5,  6,  4,  7,  4,  5,  3,\n",
              "        2,  7,  3,  6,  5,  5,  6,  8,  2,  2,  5,  4,  3,  4,  5,  6,  4,\n",
              "        3,  8,  2,  6,  6,  4,  4,  6,  2,  3,  8,  5,  3,  3,  5,  5,  6,\n",
              "        8,  6,  4,  6,  7,  3,  4,  4,  6,  5,  6,  7,  5,  6,  5,  5,  3,\n",
              "        7,  2,  8,  6,  2,  7,  6,  5,  9,  3,  7,  5,  7,  4,  4,  7,  5,\n",
              "        5,  5,  4,  6,  6,  4,  8,  3,  6,  7,  5,  3,  3,  6,  5,  8,  7,\n",
              "        7,  8,  4,  5,  6,  7,  3,  8,  1,  5,  5,  6,  3,  4,  5,  4,  5,\n",
              "        3,  5,  4,  3,  5,  5,  9,  3,  5,  4,  6,  5,  6,  8,  4,  3,  6,\n",
              "        6,  4,  4,  6,  3,  6,  7,  6,  4,  4,  5,  6,  5,  5,  4,  4,  7,\n",
              "        4,  6,  3,  6,  1,  6,  5,  5,  4,  7,  5,  3,  7,  7,  4, 10,  8,\n",
              "        6,  6,  4,  2,  6,  7,  5,  3,  2,  5,  4,  7,  4,  2,  6,  6,  4,\n",
              "        2,  6,  4,  6,  7,  6,  6,  4,  5,  4,  6,  2,  7,  7,  3,  5,  7,\n",
              "        5,  6,  7,  3,  6,  2,  4,  4,  6,  4,  6,  7,  4,  5,  8,  4,  6,\n",
              "        7,  6,  5,  5,  6,  6,  4,  4,  6,  3,  3,  5,  4,  7,  6,  7,  4,\n",
              "        5,  6,  4,  4,  6,  5,  4,  5,  5,  4,  2,  7,  5,  6,  5,  4,  5,\n",
              "        5,  1,  6,  2,  6,  6,  6,  7,  4,  6,  4,  6,  3,  6,  2,  3,  4,\n",
              "        4,  6,  5,  3,  6,  3,  3,  6,  7,  1,  3,  6,  7,  5,  3,  5,  5,\n",
              "        2,  3,  8,  6,  5,  3,  6,  5,  5,  6,  8,  4,  6,  6,  6,  4,  8,\n",
              "        6,  7,  6,  6,  7,  5,  5,  5,  5,  8,  3,  6,  6,  6,  5,  5,  4,\n",
              "        4,  4,  3,  4,  4,  7,  6,  7,  5,  2,  5,  5,  6,  6,  3,  6,  5,\n",
              "        2,  6,  5,  3,  4,  7,  1,  4,  6,  2,  3,  6,  5,  2,  4,  8,  6,\n",
              "        6,  5,  3,  3,  5,  7,  6,  7,  5,  4,  4,  4,  5,  7,  3,  4,  5,\n",
              "        7,  7,  7,  5,  6,  4,  5,  2,  6,  3,  7,  5,  5,  4,  4,  5,  3,\n",
              "        5,  7,  5,  6,  5,  6,  4,  2,  5,  5,  3,  4,  6,  4,  6,  8,  5,\n",
              "        5,  6,  2,  1,  2,  7,  5,  5,  4,  5,  6,  7,  6,  5,  7,  4,  3,\n",
              "        6,  3,  3,  2,  5,  4,  5,  5,  8,  4,  4,  5,  2,  4,  2,  7,  5,\n",
              "        5,  5,  3,  6,  7,  5,  7,  4,  5,  4,  6,  3,  4,  3,  5,  4,  6,\n",
              "        5,  5,  4,  4,  4,  3,  1,  4,  3,  6,  5,  5,  3,  6,  5,  9,  5,\n",
              "        4,  6,  7,  7,  6,  4,  6,  4,  7,  7,  6,  5,  7,  5,  6,  8,  6,\n",
              "        5,  4,  6,  5,  6,  5,  4,  5,  7,  4,  7,  7,  6,  5,  3,  5,  4,\n",
              "        6,  5,  7,  6,  5,  6,  4,  3,  5,  4,  5,  2,  5,  5,  2,  3,  3,\n",
              "        4,  7,  4,  4,  6,  8,  4,  8,  5,  2,  5,  5,  6,  4,  8,  8,  5,\n",
              "        8,  3,  4,  6,  4,  2,  6,  5,  4,  4,  7,  5,  5,  7,  7,  6,  5,\n",
              "        6,  8,  5,  5,  6,  8,  7,  8,  5,  4,  5,  5,  3,  4,  5,  4,  6,\n",
              "        8,  3,  4,  7,  6,  6,  5,  5,  5,  1,  3,  6,  6,  4,  6,  8,  5,\n",
              "        3,  5, 10,  6,  4,  3,  3,  6,  6,  6,  8,  5,  3,  5,  5,  7,  6,\n",
              "        5,  6,  2,  3,  4,  4,  6,  5,  4,  8,  6,  4,  8,  5,  4,  6,  4,\n",
              "        3,  3,  4,  4,  7,  4,  4,  5,  5,  3,  6,  6,  6,  3,  3,  7,  2,\n",
              "        3,  6,  4,  6,  7,  6,  4,  2,  5,  6,  3,  5,  4,  6,  5,  7,  6,\n",
              "        5,  4,  5,  3,  5,  5,  5,  4,  7,  7,  6,  4,  3,  5,  4,  8,  3,\n",
              "        4,  6,  8,  3,  5,  2,  5,  4,  4,  3,  5,  2,  4,  8,  4,  4,  6,\n",
              "        4,  6,  6,  5,  4,  7,  5,  7,  5,  5,  4,  4,  5,  5,  5,  6,  6,\n",
              "        7,  6,  4,  6,  5,  2,  4,  4,  6,  5,  5,  4,  4,  4,  6,  5,  6,\n",
              "        4,  6,  3,  8,  4,  2,  5,  5,  2,  3,  5,  6,  5,  6,  4,  3,  4,\n",
              "        5,  7,  5,  6,  6,  5,  7,  5,  6,  6,  5,  3,  3,  5,  6,  6,  8,\n",
              "        3,  2,  3,  7,  6,  3,  4,  3,  4,  5,  6,  6,  3,  4,  5,  9,  5,\n",
              "        5,  7,  5,  6,  4,  3,  3,  6,  5,  3,  5,  4,  7,  5,  5,  8,  3,\n",
              "        3,  5,  4,  4,  6,  5,  4,  6,  6,  6,  3,  1,  6,  5,  5,  7,  2,\n",
              "        5,  4,  7,  5,  6,  5,  5,  4,  4,  5,  6,  7,  6,  7,  2,  6,  4,\n",
              "        5,  4,  0,  5,  7,  6,  5,  7,  5,  6,  7,  6,  7,  6,  8,  6,  5,\n",
              "        4,  5,  4,  2,  3,  3,  6,  4,  5,  5,  5,  7,  5,  6,  5,  4,  4,\n",
              "        5,  6,  3,  3,  3,  6,  7,  5,  5,  6,  5,  5,  3,  6,  6,  6,  5,\n",
              "        7,  5,  5,  4,  4,  5,  4,  6,  5,  4,  7,  6,  7,  5,  3,  5,  2,\n",
              "        3,  5,  7,  4,  6,  6,  6,  4,  3,  7,  6,  3,  4,  6,  5,  4,  6,\n",
              "        4,  5,  5,  3,  5,  6,  5,  8,  5,  7,  8,  6,  6,  2,  4,  4,  6,\n",
              "        6,  6,  6,  5,  4,  5,  6,  6,  5,  6,  4,  7,  5,  5])"
            ]
          },
          "metadata": {},
          "execution_count": 8
        }
      ]
    },
    {
      "cell_type": "markdown",
      "source": [
        "**poisson distribution**\n",
        "define many probability that happens in interval\n",
        "example = how many earthquakes happens in 1 year"
      ],
      "metadata": {
        "id": "SUS8yLssCRtf"
      }
    },
    {
      "cell_type": "code",
      "source": [
        "from scipy.stats import poisson\n",
        "\n",
        "cacat = poisson.rvs(size = 1000, mu = 2)\n",
        "\n",
        "sns.histplot(cacat)\n",
        "plt.show()"
      ],
      "metadata": {
        "colab": {
          "base_uri": "https://localhost:8080/",
          "height": 742
        },
        "id": "PgAjXSfACe-b",
        "outputId": "b8bf4ef0-64fb-4a1c-cf48-6bf815bc2042"
      },
      "execution_count": null,
      "outputs": [
        {
          "output_type": "error",
          "ename": "AttributeError",
          "evalue": "module 'matplotlib' has no attribute 'show'",
          "traceback": [
            "\u001b[0;31m---------------------------------------------------------------------------\u001b[0m",
            "\u001b[0;31mAttributeError\u001b[0m                            Traceback (most recent call last)",
            "\u001b[0;32m<ipython-input-9-157440e65ce6>\u001b[0m in \u001b[0;36m<cell line: 6>\u001b[0;34m()\u001b[0m\n\u001b[1;32m      4\u001b[0m \u001b[0;34m\u001b[0m\u001b[0m\n\u001b[1;32m      5\u001b[0m \u001b[0msns\u001b[0m\u001b[0;34m.\u001b[0m\u001b[0mhistplot\u001b[0m\u001b[0;34m(\u001b[0m\u001b[0mcacat\u001b[0m\u001b[0;34m)\u001b[0m\u001b[0;34m\u001b[0m\u001b[0;34m\u001b[0m\u001b[0m\n\u001b[0;32m----> 6\u001b[0;31m \u001b[0mplt\u001b[0m\u001b[0;34m.\u001b[0m\u001b[0mshow\u001b[0m\u001b[0;34m(\u001b[0m\u001b[0;34m)\u001b[0m\u001b[0;34m\u001b[0m\u001b[0;34m\u001b[0m\u001b[0m\n\u001b[0m",
            "\u001b[0;32m/usr/local/lib/python3.10/dist-packages/matplotlib/_api/__init__.py\u001b[0m in \u001b[0;36m__getattr__\u001b[0;34m(name)\u001b[0m\n\u001b[1;32m    216\u001b[0m         \u001b[0;32mif\u001b[0m \u001b[0mname\u001b[0m \u001b[0;32min\u001b[0m \u001b[0mprops\u001b[0m\u001b[0;34m:\u001b[0m\u001b[0;34m\u001b[0m\u001b[0;34m\u001b[0m\u001b[0m\n\u001b[1;32m    217\u001b[0m             \u001b[0;32mreturn\u001b[0m \u001b[0mprops\u001b[0m\u001b[0;34m[\u001b[0m\u001b[0mname\u001b[0m\u001b[0;34m]\u001b[0m\u001b[0;34m.\u001b[0m\u001b[0m__get__\u001b[0m\u001b[0;34m(\u001b[0m\u001b[0minstance\u001b[0m\u001b[0;34m)\u001b[0m\u001b[0;34m\u001b[0m\u001b[0;34m\u001b[0m\u001b[0m\n\u001b[0;32m--> 218\u001b[0;31m         raise AttributeError(\n\u001b[0m\u001b[1;32m    219\u001b[0m             f\"module {cls.__module__!r} has no attribute {name!r}\")\n\u001b[1;32m    220\u001b[0m \u001b[0;34m\u001b[0m\u001b[0m\n",
            "\u001b[0;31mAttributeError\u001b[0m: module 'matplotlib' has no attribute 'show'"
          ]
        },
        {
          "output_type": "display_data",
          "data": {
            "text/plain": [
              "<Figure size 640x480 with 1 Axes>"
            ],
            "image/png": "[encoded data removed]"
          },
          "metadata": {}
        }
      ]
    },
    {
      "cell_type": "code",
      "source": [
        "cacat"
      ],
      "metadata": {
        "colab": {
          "base_uri": "https://localhost:8080/"
        },
        "id": "C3QTTAUBCQmJ",
        "outputId": "81cc672e-2ed2-4b09-b859-01ea30e7c47b"
      },
      "execution_count": null,
      "outputs": [
        {
          "output_type": "execute_result",
          "data": {
            "text/plain": [
              "array([3, 4, 1, 1, 1, 3, 0, 1, 4, 5, 0, 2, 3, 1, 1, 2, 4, 1, 2, 3, 2, 4,\n",
              "       2, 3, 0, 2, 1, 2, 1, 3, 3, 5, 1, 1, 0, 3, 3, 3, 4, 0, 0, 4, 2, 2,\n",
              "       1, 1, 2, 1, 3, 3, 3, 1, 1, 1, 4, 7, 1, 1, 1, 3, 3, 2, 8, 1, 3, 3,\n",
              "       1, 0, 1, 4, 3, 1, 2, 0, 0, 1, 1, 0, 3, 1, 1, 2, 3, 1, 4, 2, 2, 4,\n",
              "       4, 2, 1, 1, 1, 2, 2, 2, 3, 0, 2, 0, 2, 1, 2, 2, 0, 1, 1, 2, 3, 3,\n",
              "       1, 1, 1, 2, 3, 1, 0, 5, 3, 1, 2, 1, 1, 0, 2, 4, 0, 2, 7, 1, 3, 1,\n",
              "       3, 2, 2, 1, 4, 4, 1, 2, 0, 3, 2, 1, 3, 1, 3, 3, 1, 1, 1, 1, 1, 4,\n",
              "       2, 1, 1, 6, 5, 0, 0, 2, 3, 0, 2, 3, 0, 5, 2, 0, 3, 2, 2, 2, 3, 1,\n",
              "       1, 5, 3, 3, 4, 4, 1, 2, 2, 1, 2, 1, 4, 3, 1, 2, 5, 1, 1, 1, 1, 1,\n",
              "       3, 1, 4, 2, 4, 0, 2, 1, 3, 1, 1, 2, 1, 2, 0, 2, 0, 3, 0, 3, 3, 0,\n",
              "       2, 0, 2, 1, 2, 2, 1, 0, 6, 5, 1, 2, 4, 1, 4, 2, 1, 4, 3, 1, 6, 1,\n",
              "       2, 0, 2, 2, 7, 7, 2, 4, 1, 1, 3, 3, 1, 2, 4, 1, 2, 3, 0, 3, 0, 2,\n",
              "       1, 3, 2, 0, 2, 0, 2, 3, 3, 1, 2, 1, 1, 0, 3, 0, 2, 0, 0, 2, 1, 3,\n",
              "       1, 1, 2, 2, 2, 4, 3, 0, 1, 3, 4, 0, 1, 3, 2, 0, 1, 0, 2, 4, 2, 3,\n",
              "       6, 4, 2, 4, 1, 1, 1, 0, 2, 3, 3, 3, 3, 2, 0, 1, 2, 1, 3, 1, 1, 1,\n",
              "       3, 0, 2, 1, 1, 2, 0, 2, 2, 3, 3, 2, 2, 1, 1, 0, 1, 5, 0, 1, 5, 3,\n",
              "       3, 3, 3, 1, 3, 2, 2, 3, 1, 3, 0, 0, 2, 4, 3, 1, 2, 1, 4, 1, 2, 0,\n",
              "       1, 4, 0, 1, 4, 2, 0, 1, 0, 2, 2, 2, 2, 2, 3, 1, 4, 2, 2, 2, 2, 2,\n",
              "       2, 3, 3, 2, 2, 0, 2, 2, 1, 1, 2, 3, 5, 2, 0, 2, 3, 3, 2, 3, 3, 2,\n",
              "       2, 0, 2, 2, 2, 4, 2, 4, 2, 1, 3, 1, 1, 3, 1, 2, 5, 2, 4, 2, 0, 1,\n",
              "       4, 1, 1, 4, 3, 2, 1, 2, 1, 4, 2, 2, 2, 1, 0, 2, 3, 3, 3, 2, 1, 1,\n",
              "       4, 1, 3, 5, 2, 0, 3, 1, 0, 1, 2, 2, 1, 1, 5, 2, 2, 1, 4, 2, 1, 7,\n",
              "       2, 0, 4, 4, 2, 2, 1, 3, 5, 1, 3, 1, 1, 0, 2, 1, 1, 1, 2, 0, 2, 1,\n",
              "       3, 1, 0, 1, 2, 2, 1, 1, 3, 2, 1, 2, 0, 1, 4, 2, 3, 2, 4, 2, 4, 1,\n",
              "       1, 0, 3, 5, 0, 5, 5, 2, 3, 1, 2, 1, 1, 1, 2, 3, 0, 1, 4, 3, 2, 1,\n",
              "       1, 5, 4, 2, 0, 1, 3, 1, 2, 0, 2, 1, 0, 0, 0, 2, 0, 3, 2, 1, 1, 3,\n",
              "       3, 2, 3, 0, 1, 1, 2, 1, 5, 2, 0, 2, 2, 1, 3, 0, 2, 3, 1, 5, 1, 2,\n",
              "       3, 1, 2, 6, 1, 0, 3, 2, 2, 2, 2, 3, 1, 3, 2, 4, 3, 1, 3, 3, 1, 1,\n",
              "       5, 1, 0, 1, 2, 0, 4, 1, 2, 5, 3, 2, 4, 1, 2, 0, 2, 1, 2, 0, 2, 1,\n",
              "       0, 1, 2, 2, 1, 5, 0, 2, 4, 2, 1, 0, 4, 2, 1, 2, 3, 2, 3, 1, 1, 3,\n",
              "       0, 1, 5, 3, 2, 1, 2, 4, 3, 0, 3, 3, 1, 4, 2, 0, 2, 1, 1, 1, 1, 2,\n",
              "       4, 0, 4, 2, 0, 2, 2, 1, 0, 1, 2, 4, 1, 3, 2, 2, 3, 3, 4, 4, 1, 4,\n",
              "       5, 1, 6, 3, 4, 3, 2, 4, 2, 1, 3, 2, 2, 2, 2, 2, 8, 3, 1, 3, 4, 2,\n",
              "       5, 5, 2, 2, 0, 0, 0, 0, 0, 2, 1, 4, 4, 1, 0, 1, 0, 1, 1, 1, 1, 3,\n",
              "       3, 3, 1, 3, 1, 2, 1, 2, 3, 2, 1, 4, 0, 0, 3, 3, 5, 1, 1, 1, 3, 2,\n",
              "       3, 5, 2, 0, 2, 3, 3, 2, 2, 2, 1, 5, 2, 3, 2, 0, 3, 2, 3, 1, 1, 0,\n",
              "       3, 1, 2, 4, 0, 1, 1, 1, 0, 1, 1, 4, 4, 4, 0, 1, 4, 0, 0, 3, 2, 2,\n",
              "       1, 3, 3, 3, 1, 2, 3, 5, 5, 3, 1, 5, 1, 4, 2, 2, 4, 1, 2, 3, 1, 5,\n",
              "       2, 2, 1, 0, 3, 3, 5, 3, 1, 2, 3, 1, 2, 2, 5, 1, 1, 1, 3, 4, 4, 1,\n",
              "       3, 2, 3, 4, 2, 5, 1, 5, 2, 1, 4, 5, 1, 2, 2, 3, 1, 1, 4, 0, 4, 3,\n",
              "       0, 5, 1, 0, 2, 0, 2, 5, 5, 2, 4, 2, 2, 0, 2, 3, 2, 1, 2, 4, 1, 2,\n",
              "       3, 4, 0, 1, 1, 2, 1, 3, 3, 0, 0, 3, 4, 1, 2, 5, 3, 1, 1, 1, 0, 1,\n",
              "       3, 2, 4, 2, 3, 3, 2, 3, 0, 4, 5, 5, 0, 4, 2, 2, 2, 2, 2, 3, 4, 1,\n",
              "       2, 3, 3, 1, 2, 1, 1, 4, 2, 4, 1, 3, 0, 2, 2, 1, 4, 4, 2, 1, 1, 2,\n",
              "       2, 2, 4, 1, 2, 5, 0, 2, 0, 2, 1, 4, 2, 2, 2, 1, 1, 4, 3, 3, 1, 6,\n",
              "       1, 3, 2, 3, 2, 0, 2, 2, 4, 2])"
            ]
          },
          "metadata": {},
          "execution_count": 11
        }
      ]
    },
    {
      "cell_type": "markdown",
      "source": [
        "**Continuous Distribution**\n",
        "\n",
        "uniform distribution\n",
        "\n",
        "normal distribution"
      ],
      "metadata": {
        "id": "Ymny_VrmDitm"
      }
    },
    {
      "cell_type": "markdown",
      "source": [
        "**Uniform distribution**"
      ],
      "metadata": {
        "id": "Xjp7hXUyE4Ru"
      }
    },
    {
      "cell_type": "code",
      "source": [
        "from scipy.stats import uniform\n",
        "\n",
        "# Change 'lock' to 'loc' to specify the lower bound of the distribution\n",
        "uniform_data = uniform.rvs(size = 1000, loc = 0, scale = 9)\n",
        "\n",
        "sns.histplot(uniform_data)\n",
        "plt.show()"
      ],
      "metadata": {
        "colab": {
          "base_uri": "https://localhost:8080/",
          "height": 742
        },
        "id": "gABvcdydEB-r",
        "outputId": "21fb929f-d672-4ca1-c0a4-8ed6a3af89fc"
      },
      "execution_count": null,
      "outputs": [
        {
          "output_type": "error",
          "ename": "AttributeError",
          "evalue": "module 'matplotlib' has no attribute 'show'",
          "traceback": [
            "\u001b[0;31m---------------------------------------------------------------------------\u001b[0m",
            "\u001b[0;31mAttributeError\u001b[0m                            Traceback (most recent call last)",
            "\u001b[0;32m<ipython-input-14-bbc3230751d3>\u001b[0m in \u001b[0;36m<cell line: 7>\u001b[0;34m()\u001b[0m\n\u001b[1;32m      5\u001b[0m \u001b[0;34m\u001b[0m\u001b[0m\n\u001b[1;32m      6\u001b[0m \u001b[0msns\u001b[0m\u001b[0;34m.\u001b[0m\u001b[0mhistplot\u001b[0m\u001b[0;34m(\u001b[0m\u001b[0muniform_data\u001b[0m\u001b[0;34m)\u001b[0m\u001b[0;34m\u001b[0m\u001b[0;34m\u001b[0m\u001b[0m\n\u001b[0;32m----> 7\u001b[0;31m \u001b[0mplt\u001b[0m\u001b[0;34m.\u001b[0m\u001b[0mshow\u001b[0m\u001b[0;34m(\u001b[0m\u001b[0;34m)\u001b[0m\u001b[0;34m\u001b[0m\u001b[0;34m\u001b[0m\u001b[0m\n\u001b[0m",
            "\u001b[0;32m/usr/local/lib/python3.10/dist-packages/matplotlib/_api/__init__.py\u001b[0m in \u001b[0;36m__getattr__\u001b[0;34m(name)\u001b[0m\n\u001b[1;32m    216\u001b[0m         \u001b[0;32mif\u001b[0m \u001b[0mname\u001b[0m \u001b[0;32min\u001b[0m \u001b[0mprops\u001b[0m\u001b[0;34m:\u001b[0m\u001b[0;34m\u001b[0m\u001b[0;34m\u001b[0m\u001b[0m\n\u001b[1;32m    217\u001b[0m             \u001b[0;32mreturn\u001b[0m \u001b[0mprops\u001b[0m\u001b[0;34m[\u001b[0m\u001b[0mname\u001b[0m\u001b[0;34m]\u001b[0m\u001b[0;34m.\u001b[0m\u001b[0m__get__\u001b[0m\u001b[0;34m(\u001b[0m\u001b[0minstance\u001b[0m\u001b[0;34m)\u001b[0m\u001b[0;34m\u001b[0m\u001b[0;34m\u001b[0m\u001b[0m\n\u001b[0;32m--> 218\u001b[0;31m         raise AttributeError(\n\u001b[0m\u001b[1;32m    219\u001b[0m             f\"module {cls.__module__!r} has no attribute {name!r}\")\n\u001b[1;32m    220\u001b[0m \u001b[0;34m\u001b[0m\u001b[0m\n",
            "\u001b[0;31mAttributeError\u001b[0m: module 'matplotlib' has no attribute 'show'"
          ]
        },
        {
          "output_type": "display_data",
          "data": {
            "text/plain": [
              "<Figure size 640x480 with 1 Axes>"
            ],
            "image/png": "[encoded data removed]"
          },
          "metadata": {}
        }
      ]
    },
    {
      "cell_type": "markdown",
      "source": [
        "**Normal distribution**\n",
        "distribution that look like a bell"
      ],
      "metadata": {
        "id": "rjdyQeVyE87f"
      }
    },
    {
      "cell_type": "code",
      "source": [
        "from scipy.stats import norm\n",
        "\n",
        "# Change 'lock' to 'loc' to specify the lower bound of the distribution\n",
        "nilai = norm.rvs(size = 1000, loc = 70, scale = 10)\n",
        "#70 nilai rata rata, 10 nilai deviasi\n",
        "\n",
        "sns.histplot(nilai)\n",
        "plt.show()"
      ],
      "metadata": {
        "colab": {
          "base_uri": "https://localhost:8080/",
          "height": 742
        },
        "id": "QmMkVy6UDRb8",
        "outputId": "c5fb7a50-848f-409a-c490-272064ba4f6e"
      },
      "execution_count": null,
      "outputs": [
        {
          "output_type": "error",
          "ename": "AttributeError",
          "evalue": "module 'matplotlib' has no attribute 'show'",
          "traceback": [
            "\u001b[0;31m---------------------------------------------------------------------------\u001b[0m",
            "\u001b[0;31mAttributeError\u001b[0m                            Traceback (most recent call last)",
            "\u001b[0;32m<ipython-input-19-bb523b232376>\u001b[0m in \u001b[0;36m<cell line: 8>\u001b[0;34m()\u001b[0m\n\u001b[1;32m      6\u001b[0m \u001b[0;34m\u001b[0m\u001b[0m\n\u001b[1;32m      7\u001b[0m \u001b[0msns\u001b[0m\u001b[0;34m.\u001b[0m\u001b[0mhistplot\u001b[0m\u001b[0;34m(\u001b[0m\u001b[0mnilai\u001b[0m\u001b[0;34m)\u001b[0m\u001b[0;34m\u001b[0m\u001b[0;34m\u001b[0m\u001b[0m\n\u001b[0;32m----> 8\u001b[0;31m \u001b[0mplt\u001b[0m\u001b[0;34m.\u001b[0m\u001b[0mshow\u001b[0m\u001b[0;34m(\u001b[0m\u001b[0;34m)\u001b[0m\u001b[0;34m\u001b[0m\u001b[0;34m\u001b[0m\u001b[0m\n\u001b[0m",
            "\u001b[0;32m/usr/local/lib/python3.10/dist-packages/matplotlib/_api/__init__.py\u001b[0m in \u001b[0;36m__getattr__\u001b[0;34m(name)\u001b[0m\n\u001b[1;32m    216\u001b[0m         \u001b[0;32mif\u001b[0m \u001b[0mname\u001b[0m \u001b[0;32min\u001b[0m \u001b[0mprops\u001b[0m\u001b[0;34m:\u001b[0m\u001b[0;34m\u001b[0m\u001b[0;34m\u001b[0m\u001b[0m\n\u001b[1;32m    217\u001b[0m             \u001b[0;32mreturn\u001b[0m \u001b[0mprops\u001b[0m\u001b[0;34m[\u001b[0m\u001b[0mname\u001b[0m\u001b[0;34m]\u001b[0m\u001b[0;34m.\u001b[0m\u001b[0m__get__\u001b[0m\u001b[0;34m(\u001b[0m\u001b[0minstance\u001b[0m\u001b[0;34m)\u001b[0m\u001b[0;34m\u001b[0m\u001b[0;34m\u001b[0m\u001b[0m\n\u001b[0;32m--> 218\u001b[0;31m         raise AttributeError(\n\u001b[0m\u001b[1;32m    219\u001b[0m             f\"module {cls.__module__!r} has no attribute {name!r}\")\n\u001b[1;32m    220\u001b[0m \u001b[0;34m\u001b[0m\u001b[0m\n",
            "\u001b[0;31mAttributeError\u001b[0m: module 'matplotlib' has no attribute 'show'"
          ]
        },
        {
          "output_type": "display_data",
          "data": {
            "text/plain": [
              "<Figure size 640x480 with 1 Axes>"
            ],
            "image/png": "[encoded data removed]"
          },
          "metadata": {}
        }
      ]
    },
    {
      "cell_type": "markdown",
      "source": [
        "**Exponential Distribution**\n",
        "\n",
        "kebalikan dr distribusi poisson **define how many time that we needed to make 1 event happens**\n"
      ],
      "metadata": {
        "id": "bzqnQBoAGc45"
      }
    },
    {
      "cell_type": "code",
      "source": [
        "from scipy.stats import expon\n",
        "\n",
        "# Change 'lock' to 'loc' to specify the lower bound of the distribution\n",
        "cacat = expon.rvs(scale = 1, loc = 5, size = 1000)\n",
        "\n",
        "sns.histplot(cacat)\n",
        "plt.show()"
      ],
      "metadata": {
        "colab": {
          "base_uri": "https://localhost:8080/",
          "height": 742
        },
        "id": "npZ6sCyPG4YG",
        "outputId": "3b3b59dc-6c06-48ad-9cb4-8908bf472ec0"
      },
      "execution_count": null,
      "outputs": [
        {
          "output_type": "error",
          "ename": "AttributeError",
          "evalue": "module 'matplotlib' has no attribute 'show'",
          "traceback": [
            "\u001b[0;31m---------------------------------------------------------------------------\u001b[0m",
            "\u001b[0;31mAttributeError\u001b[0m                            Traceback (most recent call last)",
            "\u001b[0;32m<ipython-input-22-a04f3aa851d4>\u001b[0m in \u001b[0;36m<cell line: 7>\u001b[0;34m()\u001b[0m\n\u001b[1;32m      5\u001b[0m \u001b[0;34m\u001b[0m\u001b[0m\n\u001b[1;32m      6\u001b[0m \u001b[0msns\u001b[0m\u001b[0;34m.\u001b[0m\u001b[0mhistplot\u001b[0m\u001b[0;34m(\u001b[0m\u001b[0mcacat\u001b[0m\u001b[0;34m)\u001b[0m\u001b[0;34m\u001b[0m\u001b[0;34m\u001b[0m\u001b[0m\n\u001b[0;32m----> 7\u001b[0;31m \u001b[0mplt\u001b[0m\u001b[0;34m.\u001b[0m\u001b[0mshow\u001b[0m\u001b[0;34m(\u001b[0m\u001b[0;34m)\u001b[0m\u001b[0;34m\u001b[0m\u001b[0;34m\u001b[0m\u001b[0m\n\u001b[0m",
            "\u001b[0;32m/usr/local/lib/python3.10/dist-packages/matplotlib/_api/__init__.py\u001b[0m in \u001b[0;36m__getattr__\u001b[0;34m(name)\u001b[0m\n\u001b[1;32m    216\u001b[0m         \u001b[0;32mif\u001b[0m \u001b[0mname\u001b[0m \u001b[0;32min\u001b[0m \u001b[0mprops\u001b[0m\u001b[0;34m:\u001b[0m\u001b[0;34m\u001b[0m\u001b[0;34m\u001b[0m\u001b[0m\n\u001b[1;32m    217\u001b[0m             \u001b[0;32mreturn\u001b[0m \u001b[0mprops\u001b[0m\u001b[0;34m[\u001b[0m\u001b[0mname\u001b[0m\u001b[0;34m]\u001b[0m\u001b[0;34m.\u001b[0m\u001b[0m__get__\u001b[0m\u001b[0;34m(\u001b[0m\u001b[0minstance\u001b[0m\u001b[0;34m)\u001b[0m\u001b[0;34m\u001b[0m\u001b[0;34m\u001b[0m\u001b[0m\n\u001b[0;32m--> 218\u001b[0;31m         raise AttributeError(\n\u001b[0m\u001b[1;32m    219\u001b[0m             f\"module {cls.__module__!r} has no attribute {name!r}\")\n\u001b[1;32m    220\u001b[0m \u001b[0;34m\u001b[0m\u001b[0m\n",
            "\u001b[0;31mAttributeError\u001b[0m: module 'matplotlib' has no attribute 'show'"
          ]
        },
        {
          "output_type": "display_data",
          "data": {
            "text/plain": [
              "<Figure size 640x480 with 1 Axes>"
            ],
            "image/png": "[encoded data removed]"
          },
          "metadata": {}
        }
      ]
    },
    {
      "cell_type": "code",
      "source": [],
      "metadata": {
        "id": "RJl2pr9JGcGR"
      },
      "execution_count": null,
      "outputs": []
    }
  ]
}